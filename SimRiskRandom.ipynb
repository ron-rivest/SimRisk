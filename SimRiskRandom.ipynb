{
 "cells": [
  {
   "cell_type": "markdown",
   "metadata": {},
   "source": [
    "**Random values for repeatable simulations**\n",
    "\n",
    "Ronald L. Rivest\n",
    "\n",
    "October 20, 2020\n",
    "\n",
    "Used in **SimRisk** simulation of covid-19 disease spread."
   ]
  },
  {
   "cell_type": "code",
   "execution_count": 1,
   "metadata": {},
   "outputs": [
    {
     "data": {
      "text/plain": [
       "Main.KDF"
      ]
     },
     "execution_count": 1,
     "metadata": {},
     "output_type": "execute_result"
    }
   ],
   "source": [
    "module SimRandom\n",
    "\n",
    "\"\"\"Pseudorandom permutation = Key Derivation Function\n",
    "   (see CLRS \"Introduction to Algorithms\", Hashing chapter, 4th edition)\n",
    "\"\"\"\n",
    "\n",
    "export myKDF\n",
    "export myRand\n",
    "\n",
    "\"\"\"\n",
    "    myKDF(k, x)\n",
    "\n",
    "Key Derivation Function.\n",
    "Return pseudorandom UInt64 value for input x, depending\n",
    "on (key or seed) parameter k.  Based on RC6 and RC6mix.  myKDF is \n",
    "one-to-one (a permutation of x values) for any fixed odd k;\n",
    "it is like a block cipher. Tight code that runs in registers.\n",
    "\"\"\"\n",
    "function myKDF(k, x)::UInt64\n",
    "    r = 4                              # number of rounds\n",
    "    aec = 0x597148a0b6de3cf2           # arbitrary even constant\n",
    "    k = unsigned(aec * k + 1)          # k is now odd\n",
    "    y = unsigned(x)\n",
    "    for i in 1:r\n",
    "        y = y * (aec*y + k)            # one-to-one fn of x (as in RC6)\n",
    "        y = ((y >>> 32) | (y << 32))   # swap 32-bit halves\n",
    "    end\n",
    "    return y + 0x2381457096facbed      # eliminates \"0 is fixpoint for x\" issue\n",
    "end    \n",
    "\n",
    "\"\"\"\n",
    "    myRand(k)\n",
    "    myRand(k, x)\n",
    "\n",
    "Return float pseudorandom value between 0.0 and 1.0 for \n",
    "parameter k and input x.  The input x is 64-bit Int or UInt.\n",
    "Input x may be omitted, in which case it defaults to a large\n",
    "pseudorandom constant.\n",
    "\n",
    "# Examples\n",
    "```jldoctest\n",
    "julia> rand(1, 4)\n",
    "0.4125945601478762\n",
    "```\n",
    "\"\"\"\n",
    "function myRand(k, x=0xf3251089badc547e)::Float64\n",
    "    return myKDF(k, x) / typemax(UInt64)\n",
    "end\n",
    "\n",
    "function myRand(k, x, range::UnitRange{Int})::Int\n",
    "    n = range.stop - range.start + 1\n",
    "    @assert n > 0\n",
    "    return min(range.stop, range.start + Int(floor(myRand(k, x)*n)))\n",
    "end\n",
    "\n",
    "if false\n",
    "    println(myRand(1))\n",
    "    println(myRand(1, 4))\n",
    "    println(myRand(3, 3))\n",
    "    println(myRand(10, 7))\n",
    "    for i in 1:20\n",
    "        println(myRand(1234, 200+i, 3:7))\n",
    "    end\n",
    "end\n",
    "\n",
    "end # of module SimRandom"
   ]
  },
  {
   "cell_type": "code",
   "execution_count": null,
   "metadata": {},
   "outputs": [],
   "source": []
  }
 ],
 "metadata": {
  "@webio": {
   "lastCommId": null,
   "lastKernelId": null
  },
  "kernelspec": {
   "display_name": "Julia 1.1.1",
   "language": "julia",
   "name": "julia-1.1"
  },
  "language_info": {
   "file_extension": ".jl",
   "mimetype": "application/julia",
   "name": "julia",
   "version": "1.1.1"
  }
 },
 "nbformat": 4,
 "nbformat_minor": 2
}
