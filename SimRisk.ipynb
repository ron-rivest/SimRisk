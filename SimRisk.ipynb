{
 "cells": [
  {
   "cell_type": "markdown",
   "metadata": {},
   "source": [
    "**Abstract** \n",
    "\n",
    "This note and Julia notebook presents a simulation-based method and associated Julia \n",
    "software package for estimating covid-19 infection risks.  \n",
    "\n",
    "Our approach differs from many covid-19 simulations, in that it is *small-scale*: it doesn't try to model an entire population, but only a few individuals (from one to perhaps two dozen).  The primary \n",
    "goal is to estimate the probability that each individual is infected, based on a history of their recent \n",
    "contacts and test results (as well as certain assumptions and other information).\n",
    "\n",
    "A simulation consists of many *simulation runs*; we also call a simulation\n",
    "run a *scenario* or a *world*.  Each simulation run is based on the provided history\n",
    "of contacts and test results, but may vary in the pattern of how infection starts and spreads among the individuals.\n",
    "Simulation runs that give results inconsistent with provided test results are discarded.  The probability\n",
    "that an individual is infected at the end is estimated as the fraction of remaining simulation runs in which\n",
    "that individual is infected.\n",
    "\n",
    "A simulation may also take into account:\n",
    "* whether individuals are wearing **masks** (and if so, what type of mask)\n",
    "* the **duration** of contacts (disease transmission is modeled in a **dose-based** manner)\n",
    "* **multi-person contacts** (e.g. for a dinner)\n",
    "* the presence of one or more **anonymous individuals** in a multi-person contact (e.g. bus riders)\n",
    "* given probabilities for the prevalence of the disease in the population, and the likelihood\n",
    "  of mask-wearing in the population, both used to model anonymous individuals\n",
    "* different **types of tests** with differing probabilities for detection and false alarms\n",
    "* many infected individuals are **asymptomatic**\n",
    "* infected individuals progress through a series of stages of the disease,\n",
    "* the **infectiousness** of an infected individual may vary over time,\n",
    "* infected individuals typically recover after a certain time (e.g. 14 days)\n",
    "* an infected individual, if symptomatic, has symptom onset around a certain time\n",
    "  since infection (e.g. on the 5th day)."
   ]
  },
  {
   "cell_type": "markdown",
   "metadata": {},
   "source": [
    "<!--- <img src=\"images/foo3.jpg\" width=300> --->"
   ]
  },
  {
   "cell_type": "raw",
   "metadata": {},
   "source": [
    "\\newpage"
   ]
  },
  {
   "cell_type": "markdown",
   "metadata": {},
   "source": [
    "# Approach\n",
    "\n",
    "Our approach is [*agent-based*](https://en.wikipedia.org/wiki/Agent-based_model);\n",
    "each individual is separately modeled in the simulation.\n",
    "\n",
    "In our agent-based model each individual\n",
    "may have a complex state consisting of a number of attributes. \n",
    "We consider attributes to be of two types: the ``disease state'' of the agent \n",
    "(e.g. Susceptible, Infected, or Recovered), \n",
    "and other \"observable state\" attributes (e.g. whether the individual is masked).  \n",
    "\n",
    "The disease state is not directly observable, but may be measured with a \n",
    "Test (which will give a result of positive -- meaning infected -- or negative -- meaning uninfected).  \n",
    "In our model we further subdivide the\n",
    "Infected state into a sequence of states I1, I2, ..., ILast (e.g. I14)\n",
    "according to the number of days the individual has been infected.\n",
    "\n",
    "As a pedagogic digression, we note that \n",
    "an interesting class of agent-based models are the \"billiard-ball models\",\n",
    "as exemplified in this\n",
    "[Washington Post article](https://www.washingtonpost.com/graphics/2020/world/corona-simulator/).\n",
    "Each billiard ball represents a person, and the color of the ball represents the\n",
    "disease state of that person (healthy, sick, recovered).  The billiard ball's position\n",
    "and velocity are also part of the state information for the person modelled.  Collisions between balls represent contact events where an infected person may infect an uninfected person.\n",
    "\n",
    "Each time you reload the Washington Post page, it starts a new simulation run, where\n",
    "the positions, velocities, and initial disease states of the balls are freshly and randomly generated;\n",
    "a new run may thus give somewhat different results.\n",
    "Performing many such simulation runs allows one to estimate statistics such as the\n",
    "fraction of individuals infected after a certain amount of time has elapsed.\n",
    "\n",
    "We adopt a similarf approach, but restrict the rerandomization to \n",
    "the initial disease states and\n",
    "the test results obtained.\n",
    "\n",
    "Our approach is not compartmental; a compartmental model keeps only aggregate estimates about the number of individuals in each compartment, and a set of differential equations determines how these estimates evolve over time. An SIR model is a typical example of a compartmental model, wherein the model state consists only of the estimated number of Susceptible (\"S\"), Infectious (\"I\"), and Recovered (\"R\") individuals."
   ]
  },
  {
   "cell_type": "markdown",
   "metadata": {},
   "source": [
    "## Fixed versus stochastic contact schedules\n",
    "\n",
    "We now elaborate and clarify this distinction between agent-based models with fixed contact schedules and agent-based models with variable or stochastic contact schedules, as this distinction is not often made or adopted in the simulation literature.\n",
    "\n",
    "*We restrict attention to agent-based models where the sequence of contacts made is fixed and independent of the spread of the disease*.\n",
    "\n",
    "If we consider a given simulation run, we see a sequence of *contact events*, such as:\n",
    "* on day 1, person A has a close contact with person B,\n",
    "* on day 2, person A has a close contact with person C,\n",
    "* on day 3, person B has a close contact with person C, then\n",
    "* on day 3, person A, B, and C have a three-way close contact\n",
    "* and so on...\n",
    "(We use the phrases \"has a contact with\" and \"has a close contact with\" \n",
    "interchangeably to denote a contact where disease transmission is possible.)\n",
    "\n",
    "In a \"billiard ball\" model, the sequence of contacts is determined by the initial positions and velocities of the balls, but *not* by any other information, such as the disease states of the individuals.  The schedule of contacts is fixed by the initial\n",
    "position and velocities.\n",
    "\n",
    "An individual may become infected during a contact, but he/she thereafter continues life as usual.  This is appropriate for a disease that is entirely asymptomatic, and is an interesting and useful restriction to adopt for disease in general.\n",
    "\n",
    "We therefore adopt the restriction that\n",
    "the model has a **fixed contact schedule**:\n",
    "*the model has a fixed schedule of contacts that is used for \n",
    "any simulation run*. \n",
    "\n",
    "Even if the model has a fixed contact schedule, the spread of the disease among the\n",
    "simulated individuals in that model may vary stochastically from simulation run to simulation run, \n",
    "since the spread of the disease also depends on other factors, such as:\n",
    "* who is infected at the beginning of the simulation run (the initial conditions)\n",
    "* the stochastic character of disease transmission during a contact (that is, if\n",
    "  A and B have a contact, and A is infected but B is not, whether A infects B may\n",
    "  happen only randomly with some probability)\n",
    "* whether the simulated individuals are wearing mask (and if so, what sort of mask), \n",
    "  which may decrease the disease transmission probability for a contact,\n",
    "and so on..."
   ]
  },
  {
   "cell_type": "markdown",
   "metadata": {},
   "source": [
    "## Motivation\n",
    "\n",
    "The reason we are interested in agent-based models having a fixed contact schedule \n",
    "is that *we are interested in real-life situations where the contact history may in fact be known*, and we wish to estimate the probability that an individual is infected in such situations.\n",
    "\n",
    "For example, the contact history may be known because of smartphone-based (or wearable-token-based) digital contact tracing.  It may be known exactly who was in contact with whom for the last two weeks, among the entire population.  \n",
    "\n",
    "(The previous paragraph sets aside the fact that collecting such information may be undesirable for privacy reasons.  So, the exercise here is to explore what might be \n",
    "possible if one were to collect such information.  But this work should in no way be \n",
    "interpreted as saying that the privacy concerns aren't important, or that they shouldn't\n",
    "prevail if one is considering the possibility of such data collection.)\n",
    "\n",
    "Of course, it is not required that the contact schedule be known and/or derived from\n",
    "real-life data.  It can be pseudorandomly generated, for example.  Or, it may be a mix\n",
    "of real-life contact data and pseudorandomly generated data.\n",
    "\n",
    "The intent, however, is that the contact schedule be the historical schedule of real people,\n",
    "rather than simulated people.  We would like to know how likely it is that a specific \n",
    "real person is infected, so we can advise on a course of action to take (e.g. quarantining).\n",
    "\n",
    "This work may inform decisions at the micro level \n",
    "as to whether an individual should quarantine, whether\n",
    "a pod is ``good to go``, or the like.\n",
    "\n",
    "This work is _not_ intended to inform policy decisions at the macro level, as to\n",
    "what non-pharmaceutical interventions should be recommended, say.  It does not address\n",
    "any issues relating to contact tracing or exposure notification.\n"
   ]
  },
  {
   "cell_type": "markdown",
   "metadata": {},
   "source": [
    "## Graphical representation\n",
    "\n",
    "We now introduce the graphical representation of a schedule.  This consists of the following\n",
    "components and semantics:\n",
    "* a two-dimensional canvas to hold the graphical elements\n",
    "* the vertical axis represents time, with time increasing from top to bottom (measured in days).\n",
    "* the canvas is divided into blocks representing days by horizontal dotted lines\n",
    "* each named person in the schedule is represented by a solid vertical line (or *wire*)\n",
    "* each wire carries information from top to bottom about the state of the individual, such as\n",
    "  whether they are infected or not, or whether they are masked\n",
    "* there are several kinds of events possible in the schedule:\n",
    "  - ***NewPerson*** events, which introduces a new **named** person, and\n",
    "    representing that for each simulation run the individual's disease state may be simulated \n",
    "    via a random draw from a specified distribution.  Typically, just the overall prevalence is\n",
    "    specified, and the distribution is uniform over I1..ILast.\n",
    "  - ***Contact*** events representing the possibility of transmission of disease between individuals.\n",
    "    Each contact event represents a close contact when an uninfected party may become infected, if \n",
    "    another party is infected.  The transmission probability of the disease depends on the duration of\n",
    "    the contact and on whether the parties are\n",
    "    wearing masks.  Transmission may go either way between two parties.  If the\n",
    "    number n of parties is greater than two, than the event is equivalent to having choose(n, 2) \n",
    "    pairwise contacts (that is, having a contact between each pair of people at the event).  A person\n",
    "    infected at an event can not infect another person at the same event (but can infect someone else\n",
    "    at a later event that day).  A number of parties to the contact event may be *anonymous*.\n",
    "  - ***Test*** events, representing the person getting a test, represented by a square\n",
    "    containing \"Test\" (with the result given in the rightmost column).\n",
    "    Simulation runs are counted only if they are *consistent* with the specified test results.\n",
    "    We assume that the test result is available immediately.\n",
    "  - ***Mask-setting*** events: the individual takes off or puts on a mask, represented\n",
    "    by a square with either \"MaskOn\" or \"MaskOff\".\n",
    "  - ***NewDay*** events representing the start of a new day.  Some of the participants will recover\n",
    "    in this transition.\n",
    "  - ***Stats*** event representing the gathering of statistics -- the fraction of consistent runs wherein\n",
    "    each named person is infected."
   ]
  },
  {
   "cell_type": "markdown",
   "metadata": {},
   "source": [
    "## Example schedule\n",
    "\n",
    "Consider the following example schedule"
   ]
  },
  {
   "cell_type": "markdown",
   "metadata": {},
   "source": [
    "![SimRiskExample.png](SimRiskExample.png)"
   ]
  },
  {
   "cell_type": "markdown",
   "metadata": {},
   "source": [
    "This example shows a contact schedule for three named individuals (me, Jack and Jill) over a period\n",
    "of two days.  There are eleven events.\n",
    "\n",
    "The following code specifies the model to be simulated:\n",
    "```\n",
    "function example9()::Model\n",
    "    m = Model(\"Example 9\")\n",
    "    # day 1\n",
    "    notePerson!(m, \"me\", infectedProbability=0.00, maskedProbability=0.500)\n",
    "    notePerson!(m, \"Jack\", infectedProbability=0.05, maskedProbability=0.000)\n",
    "    notePerson!(m, \"Jill\", infectedProbability=0.10, maskedProbability=1.00)\n",
    "    noteStats!(m)\n",
    "    noteContact!(m, [\"me\", \"Jack\"], minutes=120)\n",
    "    noteContact!(m, [\"me\", \"Jill\"], anonymousNumber=4, minutes=60)\n",
    "    # day 2\n",
    "    noteNewDay!(m)\n",
    "    noteStats!(m)\n",
    "    noteTest!(m, \"Jack\", PCRTest, true)\n",
    "    noteTest!(m, \"Jill\", PCRTest, false)\n",
    "    noteStats!(m)\n",
    "    return m\n",
    "end    \n",
    "```\n",
    "\n",
    "* The first three `notePerson!` events specify the three named individuals in the model.\n",
    "\n",
    "  - The first named person, `me`, starts every simulation run uninfected.  I wear a mask half of the time.\n",
    "    (This means that I start off masked in half of the simulation runs.)\n",
    "  - The second named person, `Jack`, starts off each simulation run with a 5% chance of being infected.\n",
    "    Jack never wears a mask.\n",
    "  - The third named person, `Jill`, starts off each simulation run with a 10% chance of being infected.\n",
    "    Jill always wears an N95 mask with 95% filtration ability when Jill is the \"sender\" or when Jill is\n",
    "    the \"receiver\".\n",
    "\n",
    "* The first `Stats` event gathers statistics, showing the initial 0% / 5% / 10% infection rates \n",
    "  for me, Jack, and Jill.\n",
    "  These are computed using 100000 simulation runs, and show the number of such runs wherein each party is\n",
    "  infected.\n",
    "* The next two events on day 1 are contact events:\n",
    "  - Jack and I have a two-hour meeting.\n",
    "  - Jill and I, together with four anonymous other individuals, have a one-hour lunch.\n",
    "* The next event is the beginning of day two.  In some simulation runs, some individuals\n",
    "  recover in this transition (about 1/14 of them will do so).\n",
    "* The next event is a `Stats` event, showing that me, Jack, and Jill have infection probabilities\n",
    "  of 1% / 5% / 9%.  (Remember that Jill always wears a mask!)\n",
    "  These percentages are percentages of the 100000 simulation runs wherein each party is infected.\n",
    "* The next two events are `Test` events:\n",
    "  - a PCR `Test` event for Jack; it shows him to be infected.  This PCR test has a\n",
    "    5% false-positive and a 5% false-negative rate.\n",
    "  - a similar PCR `Test` event for Jill, it shows her to be uninfected.\n",
    "* The final event is a `Stats` showing me, Jack, and Jill to be infected with respective\n",
    "  probabilities 8%, 49%, and 1%.\n",
    "  Note that only 8074 simulation runs showed Jack testing positive and Jill testing negative;\n",
    "  the other simulation runs are discarded at this point.\n",
    "  The percentages given are the percentages of the 8074 simulation runs that gave results for the\n",
    "  two Test events that were consistent with the observed Test results, that showed each of\n",
    "  the three named individuals being infected.\n",
    "\n",
    "In general, events may have\n",
    "stochastic effects, which is why simulation is needed to determine the probability\n",
    "that a named individual is infected at the end of the schedule.  A random number seed\n",
    "and appropriate cryptographic for the simulation allow the use of pseudorandomness here, for reproducibility.\n",
    "\n",
    "Note that the infection probabilities of anonymous individuals are not estimated;\n",
    "each contact including anonymous individuals is assumed to include freshly-minted\n",
    "anonymous individuals with infection probability equal to the overall prevalence rate\n",
    "of infection.\n",
    "\n",
    "This is clearly a simplistic model that could be made more realistic in a number of ways."
   ]
  },
  {
   "cell_type": "raw",
   "metadata": {},
   "source": [
    "\\newpage"
   ]
  },
  {
   "cell_type": "markdown",
   "metadata": {},
   "source": [
    "# Disease States"
   ]
  },
  {
   "cell_type": "code",
   "execution_count": 1,
   "metadata": {},
   "outputs": [
    {
     "data": {
      "text/plain": [
       "nextDiseaseState (generic function with 1 method)"
      ]
     },
     "execution_count": 1,
     "metadata": {},
     "output_type": "execute_result"
    }
   ],
   "source": [
    "# We represent the following disease states:\n",
    "#     Susceptible  I1 I2 ... ILast  Recovered\n",
    "# We use ILast = I14 here.  Later versions may make \"14\" variable.\n",
    "# These are \"daily\" states, giving the disease state at the end of the day.\n",
    "# States I1 ... I14 are \"infected\" states; these states are not necessarily \"infectious\".\n",
    "# An infected person progresses from state I1 to state Recovered, one state at a time per day.\n",
    "# Moving from state Susceptible to state I1 is the initial infection.\n",
    "# Moving from state I14 to state Recovered is \"recovery\".\n",
    "# We represent these states as integers as follows:\n",
    "# a state Id (where d is an integer) is the disease state at the end of the d-th day of infection.\n",
    "# So, I1 is the end of the first day of infection, etc.\n",
    "# We use the encoding of disease states as integers:\n",
    "#    Susceptible = 0\n",
    "#    I1 ... I14 = 1 ... 14\n",
    "#    Recovered = 15\n",
    "\n",
    "struct DiseaseState <: Integer\n",
    "    ds::Int64\n",
    "end\n",
    "Int64(x::DiseaseState) = x.ds \n",
    "import Base.<\n",
    "<(x::DiseaseState, y::DiseaseState) = (x.ds < y.ds)\n",
    "\n",
    "# Although Julia uses 1-indexing, we start DiseaseState at 0 (= Susceptible);\n",
    "# so arrays that are indexed by DiseaseState are 0-indexed\n",
    "const Susceptible = DiseaseState(0)\n",
    "const I1 = DiseaseState(1)           # when person is infected, they move to state I1\n",
    "const ILast = DiseaseState(14)       # last infected disease state\n",
    "const Recovered = DiseaseState(15)\n",
    "\n",
    "DiseaseState() = Susceptible         # default starting disease state\n",
    "\n",
    "infected(x::DiseaseState) = (Susceptible < x < Recovered)\n",
    "\n",
    "SymptomOnset = DiseaseState(5)  # if symptomatic, symptoms start on day 5\n",
    "\n",
    "# if state ds on day d, give state on next day\n",
    "function nextDiseaseState(ds::DiseaseState)\n",
    "    (ds == Susceptible) && return ds\n",
    "    (ds == Recovered) && return ds\n",
    "    return DiseaseState(Int(ds.ds)+1)\n",
    "end"
   ]
  },
  {
   "cell_type": "code",
   "execution_count": 2,
   "metadata": {},
   "outputs": [],
   "source": [
    "# infectiousness as a function of DiseaseState\n",
    "# average of infected states is 1.000\n",
    "# using Pkg ;\n",
    "# Pkg.add(\"OffsetArrays\") ;\n",
    "using OffsetArrays ;\n",
    "\n",
    "defaultInfectiousness =      # improve this list?\n",
    "    OffsetArray([0, \n",
    "                 0, 1, 2, 2, 2, 2, 2, 1, 1, 1, 1, 1, 1, 1,  # note 0 for I1\n",
    "                 0],\n",
    "                0:15) * (14.0 / 18.0);"
   ]
  },
  {
   "cell_type": "markdown",
   "metadata": {},
   "source": [
    "## Tests\n",
    "\n",
    "When using a fixed contact schedule, we assume that\n",
    "testing affects the *transmission probability* but not the *contact schedule* or\n",
    "other observable attributes such as whether a person is wearing a mask.\n"
   ]
  },
  {
   "cell_type": "code",
   "execution_count": 3,
   "metadata": {},
   "outputs": [
    {
     "data": {
      "text/plain": [
       "TestType(\"Other\", 0.9, 0.1)"
      ]
     },
     "execution_count": 3,
     "metadata": {},
     "output_type": "execute_result"
    }
   ],
   "source": [
    "struct TestType\n",
    "    name::String         # name of test type\n",
    "    P_det::Float64       # Probability of detecting infection \n",
    "                         #     = P(pos test result | infected)\n",
    "                         #     = sensitivity\n",
    "    P_FA::Float64           # Probability of a false alarm \n",
    "                         #     = P(pos test result | uninfected)\n",
    "                         #     = 1 - specificity\n",
    "end\n",
    "\n",
    "PerfectTest = TestType(\"Perfect\", 1.0, 0.0)       # this test is always right\n",
    "PCRTest = TestType(\"PCR\", 0.95, 0.05)             # check (if adjust here, also adjust examples)\n",
    "OtherTest = TestType(\"Other\", 0.90, 0.10)         # for comparison purposes, not a real test"
   ]
  },
  {
   "cell_type": "markdown",
   "metadata": {},
   "source": [
    "## Masks\n",
    "\n",
    "Same for masks; being masked affects transmission probability but not the event schedule.\n",
    "\n",
    "A MaskType is defined by is filtration efficiencies (separately as source and as recipient)."
   ]
  },
  {
   "cell_type": "code",
   "execution_count": 4,
   "metadata": {},
   "outputs": [
    {
     "data": {
      "text/plain": [
       "MaskType(1.0, 1.0)"
      ]
     },
     "execution_count": 4,
     "metadata": {},
     "output_type": "execute_result"
    }
   ],
   "source": [
    "struct MaskType\n",
    "    sourceMaskTransmission::Float64    # 1 - filtrationEfficiency for source, if source wearing this mask type\n",
    "    recipientMaskTransmission::Float64 # 1 - filtrationEfficiency for recipient, if recipient wearing this mask type\n",
    "end\n",
    "\n",
    "N95 = MaskType(0.05, 0.05)          # Check numbers\n",
    "Surgical = MaskType(0.30, 0.20)     # Check numbers\n",
    "NoMask = MaskType(1.00, 1.00)       "
   ]
  },
  {
   "cell_type": "markdown",
   "metadata": {},
   "source": [
    "## Quarantine\n",
    "    \n",
    "We do not explicitly model quarantining; we assume that the given events already\n",
    "incorporate any effects that quarantining might have had.  "
   ]
  },
  {
   "cell_type": "raw",
   "metadata": {},
   "source": [
    "\\newpage"
   ]
  },
  {
   "cell_type": "markdown",
   "metadata": {},
   "source": [
    "# People\n",
    "\n",
    "Each person is represented in the simulation by a Person object.  We might also\n",
    "call this a *node* or a *vertex*, using graph-theoretic terminology.\n",
    "\n",
    "The node contains a number of attributes, which may change value as the\n",
    "simulation progresses; the Person object is a *mutable* data structure."
   ]
  },
  {
   "cell_type": "code",
   "execution_count": 5,
   "metadata": {},
   "outputs": [
    {
     "data": {
      "text/plain": [
       "VisibleState"
      ]
     },
     "execution_count": 5,
     "metadata": {},
     "output_type": "execute_result"
    }
   ],
   "source": [
    "struct VisibleState\n",
    "    # represents state elements that are visible and may affect disease transmission\n",
    "    mask::MaskType\n",
    "end\n",
    "# Default VisibleState is unmasked\n",
    "VisibleState() = VisibleState(NoMask)"
   ]
  },
  {
   "cell_type": "code",
   "execution_count": 6,
   "metadata": {},
   "outputs": [],
   "source": [
    "mutable struct Person # aka Agent\n",
    "\n",
    "    # static attributes of person\n",
    "    personID::String\n",
    "\n",
    "    # per-run attributes of person\n",
    "    asymptomatic::Bool                   # whether asymptomatic on this run\n",
    "    \n",
    "    # per-run dynamic attributes of person (changes over time)\n",
    "    diseaseState::DiseaseState\n",
    "    visibleState::VisibleState\n",
    "end"
   ]
  },
  {
   "cell_type": "raw",
   "metadata": {},
   "source": [
    "\\newpage"
   ]
  },
  {
   "cell_type": "markdown",
   "metadata": {},
   "source": [
    "# Key Additional Concepts"
   ]
  },
  {
   "cell_type": "markdown",
   "metadata": {},
   "source": [
    "## Global parameters\n",
    "\n",
    "One struct gives a list of global parameters, such as prevalence rate, in a timeless manner."
   ]
  },
  {
   "cell_type": "code",
   "execution_count": 7,
   "metadata": {},
   "outputs": [
    {
     "data": {
      "text/plain": [
       "GlobalParameters(0.02, 0.0, 0.4, 0.02, 0.0, 0.4, 0.0034195529591700387, 0.75, [0.0, 0.0, 0.777778, 1.55556, 1.55556, 1.55556, 1.55556, 1.55556, 0.777778, 0.777778, 0.777778, 0.777778, 0.777778, 0.777778, 0.777778, 0.0])"
      ]
     },
     "execution_count": 7,
     "metadata": {},
     "output_type": "execute_result"
    }
   ],
   "source": [
    "mutable struct GlobalParameters\n",
    "    # parameters for random named people\n",
    "    infectedProbability::Float64        # probability that a random person is infected\n",
    "    maskedProbability::Float64          # probability that a random person is masked\n",
    "    asymptomaticProbability::Float64    # probability that a random person is asymptomatic\n",
    "\n",
    "    # same parameters for random anonymous people\n",
    "    anonymousInfectedProbability::Float64\n",
    "    anonymousMaskedProbability::Float64\n",
    "    anonymousAsymptomaticProbability::Float64\n",
    "\n",
    "    # ContactEvent parameters\n",
    "\n",
    "    # A contact with a give dose (arbitrary units) between two maskless individuals \n",
    "    # has a probability of transmission of 1 - exp(-dose*transmissionConstant)\n",
    "    transmissionConstant::Float64 \n",
    "    asymptomaticFactor::Float64   # reduce dose by this factor if source is asymptomatic\n",
    "    \n",
    "    # infectiousness as a function of DiseaseState (indices will be -1:infectionDurationDays)\n",
    "    infectiousness::OffsetArray{Float64,1,Array{Float64,1}}\n",
    "end\n",
    "\n",
    "# default parameters for named people\n",
    "defaultInfectedProbability = 0.02      # prevalence in community\n",
    "defaultMaskedProbability = 0.000\n",
    "defaultAsymptomaticProbability = 0.40  # https://www.cdc.gov/coronavirus/2019-ncov/hcp/planning-scenarios.html\n",
    "\n",
    "# same parameters for anonymous people\n",
    "defaultAnonymousInfectedProbability = defaultInfectedProbability\n",
    "defaultAnonymousMaskedProbability = defaultMaskedProbability\n",
    "defaultAnonymousAsymptomaticProbability = defaultAsymptomaticProbability\n",
    "\n",
    "# We choose the transmission constant so that \n",
    "# a fifteen-minute contact has a 5% chance of transmission.\n",
    "defaultContactDuration = 15.0                 # 15 minutes in close contact\n",
    "defaultContactTransmissionProbability = 0.05  # yields 5% chance of transmission\n",
    "defaultTransmissionConstant = log(1-defaultContactTransmissionProbability)/ (-defaultContactDuration)\n",
    "# following value is from \n",
    "#   https://www.cdc.gov/coronavirus/2019-ncov/hcp/planning-scenarios.html\n",
    "defaultAsymptomaticFactor = 0.75\n",
    "\n",
    "defaultGlobalParameters = \n",
    "    GlobalParameters( defaultInfectedProbability,\n",
    "                      defaultMaskedProbability,\n",
    "                      defaultAsymptomaticProbability,\n",
    "                      defaultAnonymousInfectedProbability,\n",
    "                      defaultAnonymousMaskedProbability,\n",
    "                      defaultAnonymousAsymptomaticProbability,\n",
    "                      defaultTransmissionConstant,\n",
    "                      defaultAsymptomaticFactor,\n",
    "                      defaultInfectiousness\n",
    "                    ) "
   ]
  },
  {
   "cell_type": "raw",
   "metadata": {},
   "source": [
    "\\newpage"
   ]
  },
  {
   "cell_type": "markdown",
   "metadata": {},
   "source": [
    "# Events"
   ]
  },
  {
   "cell_type": "markdown",
   "metadata": {},
   "source": [
    "Each event specifies how the model state is to be updated during a simulation run.\n",
    "The update may be probabilistic.\n",
    "\n",
    "For example, an event might say that if Bob is infected but Alice is not, \n",
    "then Alice becomes infected with probability 15%.\n",
    "\n",
    "The effects of an event may depend on the attributes of the input nodes.  For example,\n",
    "in our example transmission probability may be smaller if either Alice and Bob are wearing masks,\n",
    "and smaller still if both are wearing masks.\n",
    "\n",
    "Each event in effect runs some program, that takes as input a person or a set of\n",
    "people, and updates the state of that person or those people."
   ]
  },
  {
   "cell_type": "code",
   "execution_count": 8,
   "metadata": {},
   "outputs": [],
   "source": [
    "struct DefaultParametersEvent      # set model default global parameters to these values\n",
    "    infected::Float64\n",
    "    masked::Float64\n",
    "end"
   ]
  },
  {
   "cell_type": "code",
   "execution_count": 9,
   "metadata": {},
   "outputs": [],
   "source": [
    "struct NewPersonEvent\n",
    "    person::Person                 # person created first, then NewPersonEvent\n",
    "    infectedProbability::Float64   # e.g. prevalance of infection in the population individual is drawn from\n",
    "                                   # assume equally likely to be any of I1...ILast\n",
    "                                   # Todo: update for other distributions.\n",
    "    maskedProbability::Float64     # probability that new individual is masked\n",
    "    asymptomaticProbability::Float64 # probability that new individual is asymptomatic\n",
    "    \n",
    "end"
   ]
  },
  {
   "cell_type": "code",
   "execution_count": 10,
   "metadata": {},
   "outputs": [],
   "source": [
    "struct NewDayEvent\n",
    "end    "
   ]
  },
  {
   "cell_type": "code",
   "execution_count": 11,
   "metadata": {},
   "outputs": [],
   "source": [
    "# A Test Event is a measurement of the disease state of a person,\n",
    "# together with a required (reported) value for that test result.\n",
    "struct TestEvent\n",
    "    person::Person\n",
    "    testType::TestType\n",
    "    reportedTestResult::Bool       # simulated test result must match this reportedTestRestult\n",
    "                                   # or else simulation run doesn't count\n",
    "end"
   ]
  },
  {
   "cell_type": "code",
   "execution_count": 12,
   "metadata": {},
   "outputs": [],
   "source": [
    "struct SymptomOnsetEvent\n",
    "    person::Person\n",
    "    reportedSymptomOnsetResult::Bool  # true if symptoms start on this day\n",
    "end"
   ]
  },
  {
   "cell_type": "code",
   "execution_count": 13,
   "metadata": {},
   "outputs": [],
   "source": [
    "struct ContactEvent  # Close Contact Event between two or more people \n",
    "                     # An Int means that many people with default parameter settings\n",
    "                     # (Vertical line segment joining two or more horizontal Person lines)\n",
    "    minutes::Int \n",
    "    people::Vector{Person}\n",
    "    anonymousNumber::Int64\n",
    "    anonymousInfectedProbability::Float64\n",
    "    anonymousMaskedProbability::Float64\n",
    "    anonymousAsymptomaticProbability::Float64\n",
    "end"
   ]
  },
  {
   "cell_type": "code",
   "execution_count": 14,
   "metadata": {},
   "outputs": [],
   "source": [
    "struct MaskEvent           # cause individual to become masked (with given MaskType)\n",
    "    person::Person\n",
    "    mask::MaskType \n",
    "end"
   ]
  },
  {
   "cell_type": "code",
   "execution_count": 15,
   "metadata": {},
   "outputs": [],
   "source": [
    "struct StatsEvent           # collect statistics: is each named person infected?\n",
    "end"
   ]
  },
  {
   "cell_type": "code",
   "execution_count": 16,
   "metadata": {},
   "outputs": [
    {
     "data": {
      "text/plain": [
       "Union{NewDayEvent, StatsEvent, DefaultParametersEvent, ContactEvent, MaskEvent, NewPersonEvent, SymptomOnsetEvent, TestEvent}"
      ]
     },
     "execution_count": 16,
     "metadata": {},
     "output_type": "execute_result"
    }
   ],
   "source": [
    "Event = Union{DefaultParametersEvent, NewPersonEvent, NewDayEvent, \n",
    "              TestEvent, SymptomOnsetEvent, ContactEvent, MaskEvent, StatsEvent}"
   ]
  },
  {
   "cell_type": "raw",
   "metadata": {},
   "source": [
    "\\newpage"
   ]
  },
  {
   "cell_type": "markdown",
   "metadata": {},
   "source": [
    "# Models\n",
    "\n",
    "The model contains \n",
    "* global parameters, \n",
    "* a list of all named people in the model, \n",
    "* an (ordered) *event list* of *events*\n",
    "  (The event list is a *schedule* of events to be run by the scheduler; \n",
    "  the events happen in the specified order), and\n",
    "* the number of StatsEvent entries in the event list"
   ]
  },
  {
   "cell_type": "code",
   "execution_count": 17,
   "metadata": {},
   "outputs": [
    {
     "data": {
      "text/plain": [
       "Model"
      ]
     },
     "execution_count": 17,
     "metadata": {},
     "output_type": "execute_result"
    }
   ],
   "source": [
    "mutable struct Model\n",
    "    params::GlobalParameters\n",
    "    people::Vector{Person}    # all people in model\n",
    "    events::Vector{Event}     # all events in model, ordered by time of occurrence\n",
    "    name::String              # name of the model\n",
    "    nStats::Int64             # number of stats events in event list\n",
    "    stats::Dict               # statistics gathered\n",
    "end\n",
    "Model() = Model(defaultGlobalParameters, [], [], \"\", 1, Dict())\n",
    "Model(name::String) = Model(defaultGlobalParameters, [], [], name, 1, Dict())"
   ]
  },
  {
   "cell_type": "markdown",
   "metadata": {},
   "source": [
    "## Model initialization and specification\n",
    "\n",
    "This section gives the tools for specifying a model.\n",
    "\n",
    "The model must be completely specified before simulation can begin.\n",
    "\n",
    "The model-specification API consists of number of functions, each of whose\n",
    "name begins with ``note``, and take as their first argument the model being\n",
    "specified.\n",
    "\n",
    "Some of the main model-specification functions are:\n",
    "\n",
    "* **``notePerson!``** introduces a new named person into the model.\n",
    "  ```\n",
    "  notePerson!(m, \n",
    "              personID,\n",
    "              infectedProbability,\n",
    "              maskedProbability,\n",
    "              asymptomaticProbability)\n",
    "  ```   \n",
    "  \n",
    "* **``noteContact!``** specifies a contact between two or more people.  At least one\n",
    "  of them should be named.  A number of anonymous individuals may be included in the contact.\n",
    "  ```\n",
    "  noteContact!(m,\n",
    "               personIDs;\n",
    "               minutes,\n",
    "               anonymousNumber,\n",
    "               anonymousInfectedProbability,\n",
    "               anonymousMaskedProbability,\n",
    "               anonymousAsymptomaticProbability)\n",
    "  ```  \n",
    "* **``noteTest!``** specifies a test given to a named person, and the result.\n",
    "  ```\n",
    "  noteTest!(m,\n",
    "            personID,\n",
    "            testType,\n",
    "            reportedTestResult::Bool)\n",
    "  ```\n",
    "* **``noteStats!``** requests a printout or display of the infection probabilities of all\n",
    "  named people.\n",
    "  ```\n",
    "  noteStats!(m)\n",
    "  ```\n",
    "* Others include\n",
    "  - ``noteNewDay!``\n",
    "  - ``noteSymptomOnset!``\n",
    "  - ``noteMaskEvent!``\n",
    "                 "
   ]
  },
  {
   "cell_type": "code",
   "execution_count": 18,
   "metadata": {},
   "outputs": [
    {
     "data": {
      "text/plain": [
       "noteDefaultParameters! (generic function with 1 method)"
      ]
     },
     "execution_count": 18,
     "metadata": {},
     "output_type": "execute_result"
    }
   ],
   "source": [
    "function noteDefaultParameters!(m::Model, infectedProbability::Real, maskedProbabilty::Real)\n",
    "    e = DefaultParametersEvent(infectedProbability, maskedProbability)\n",
    "    push!(m.events, e)\n",
    "end"
   ]
  },
  {
   "cell_type": "code",
   "execution_count": 19,
   "metadata": {},
   "outputs": [
    {
     "data": {
      "text/plain": [
       "findPersonByID (generic function with 1 method)"
      ]
     },
     "execution_count": 19,
     "metadata": {},
     "output_type": "execute_result"
    }
   ],
   "source": [
    "function findPersonByID(m, personID)::Person\n",
    "    for p in m.people\n",
    "        if p.personID == personID\n",
    "            return p\n",
    "        end\n",
    "    end\n",
    "    error(\"No person is known having ID: \" * personID)\n",
    "end"
   ]
  },
  {
   "cell_type": "code",
   "execution_count": 20,
   "metadata": {},
   "outputs": [
    {
     "data": {
      "text/plain": [
       "notePerson! (generic function with 1 method)"
      ]
     },
     "execution_count": 20,
     "metadata": {},
     "output_type": "execute_result"
    }
   ],
   "source": [
    "function notePerson!(m::Model, \n",
    "                     personID; \n",
    "                     infectedProbability::Float64 = m.params.infectedProbability,\n",
    "                     maskedProbability::Float64 = m.params.maskedProbability,\n",
    "                     asymptomaticProbability::Float64 = m.params.asymptomaticProbability)\n",
    "    p = Person(personID, false, DiseaseState(), VisibleState())\n",
    "    e = NewPersonEvent(p, infectedProbability, maskedProbability, asymptomaticProbability)\n",
    "    push!(m.people, p)\n",
    "    push!(m.events, e)\n",
    "end"
   ]
  },
  {
   "cell_type": "code",
   "execution_count": 21,
   "metadata": {},
   "outputs": [
    {
     "data": {
      "text/plain": [
       "noteNewDay! (generic function with 1 method)"
      ]
     },
     "execution_count": 21,
     "metadata": {},
     "output_type": "execute_result"
    }
   ],
   "source": [
    "function noteNewDay!(m::Model)\n",
    "    push!(m.events, NewDayEvent())\n",
    "end"
   ]
  },
  {
   "cell_type": "code",
   "execution_count": 22,
   "metadata": {},
   "outputs": [
    {
     "data": {
      "text/plain": [
       "noteTest! (generic function with 1 method)"
      ]
     },
     "execution_count": 22,
     "metadata": {},
     "output_type": "execute_result"
    }
   ],
   "source": [
    "function noteTest!(m::Model, \n",
    "                   personID::String,\n",
    "                   testType::TestType,\n",
    "                   reportedTestResult::Bool)\n",
    "    person = findPersonByID(m, personID)\n",
    "    push!(m.events, TestEvent(person, testType, reportedTestResult))\n",
    "end"
   ]
  },
  {
   "cell_type": "code",
   "execution_count": 23,
   "metadata": {},
   "outputs": [
    {
     "data": {
      "text/plain": [
       "noteSymptomOnset! (generic function with 1 method)"
      ]
     },
     "execution_count": 23,
     "metadata": {},
     "output_type": "execute_result"
    }
   ],
   "source": [
    "function noteSymptomOnset!(m::Model,\n",
    "                           personID::String,\n",
    "                           reportedSymptomOnsetResult)\n",
    "    person = findPersonByID(m, personID)\n",
    "    push!(m.events, SymptomOnsetEvent(person, reportedSymptomOnsetResult))\n",
    "end"
   ]
  },
  {
   "cell_type": "code",
   "execution_count": 24,
   "metadata": {},
   "outputs": [
    {
     "data": {
      "text/plain": [
       "noteContact! (generic function with 1 method)"
      ]
     },
     "execution_count": 24,
     "metadata": {},
     "output_type": "execute_result"
    }
   ],
   "source": [
    "function noteContact!(m::Model, \n",
    "                      personIDs;\n",
    "                      minutes::Int64 = 15,\n",
    "                      anonymousNumber::Int64 = 0,\n",
    "                      anonymousInfectedProbability::Float64 = m.params.anonymousInfectedProbability,\n",
    "                      anonymousMaskedProbability::Float64 = m.params.anonymousMaskedProbability,\n",
    "                      anonymousAsymptomaticProbability::Float64 = m.params.anonymousAsymptomaticProbability)\n",
    "    # here a \"personID\" should be a String\n",
    "    # Strings are looked up (converted to existing people); \n",
    "    people = []\n",
    "    for personID in personIDs\n",
    "        push!(people, findPersonByID(m, personID))\n",
    "    end\n",
    "    e = ContactEvent(minutes, \n",
    "                     people, \n",
    "                     anonymousNumber, \n",
    "                     anonymousInfectedProbability,\n",
    "                     anonymousMaskedProbability,\n",
    "                     anonymousAsymptomaticProbability)\n",
    "    push!(m.events, e)\n",
    "end"
   ]
  },
  {
   "cell_type": "code",
   "execution_count": 25,
   "metadata": {},
   "outputs": [
    {
     "data": {
      "text/plain": [
       "noteMaskEvent (generic function with 1 method)"
      ]
     },
     "execution_count": 25,
     "metadata": {},
     "output_type": "execute_result"
    }
   ],
   "source": [
    "function noteMaskEvent(m::Model, personID::String, mask::MaskType)\n",
    "    p = findPersonByID(m, personID)\n",
    "    push!(m.events, MaskEvent(m, p, mask))\n",
    "end"
   ]
  },
  {
   "cell_type": "code",
   "execution_count": 26,
   "metadata": {},
   "outputs": [
    {
     "data": {
      "text/plain": [
       "noteStats! (generic function with 1 method)"
      ]
     },
     "execution_count": 26,
     "metadata": {},
     "output_type": "execute_result"
    }
   ],
   "source": [
    "function noteStats!(m::Model)\n",
    "    push!(m.events, StatsEvent())\n",
    "end"
   ]
  },
  {
   "cell_type": "raw",
   "metadata": {},
   "source": [
    "\\newpage"
   ]
  },
  {
   "cell_type": "markdown",
   "metadata": {},
   "source": [
    "# Simulation"
   ]
  },
  {
   "cell_type": "markdown",
   "metadata": {},
   "source": [
    "## Random number generation"
   ]
  },
  {
   "cell_type": "code",
   "execution_count": 27,
   "metadata": {},
   "outputs": [
    {
     "data": {
      "text/plain": [
       "subSeed (generic function with 1 method)"
      ]
     },
     "execution_count": 27,
     "metadata": {},
     "output_type": "execute_result"
    }
   ],
   "source": [
    "using NBInclude   # Use custom routines for generating random numbers, for reproducibility.\n",
    "@nbinclude(\"SimRiskRandom.ipynb\")\n",
    "\n",
    "function withProbability(seed::UInt, index::Int, probability::Real)::Bool\n",
    "    return (SimRiskRandom.myRand(seed, index) < probability)\n",
    "end\n",
    "\n",
    "function fromRange(seed::UInt, index::Int, range::UnitRange)\n",
    "    return SimRiskRandom.myRand(seed, index, range)\n",
    "end\n",
    "\n",
    "function subSeed(seed::UInt, index::Int)::UInt\n",
    "    return SimRiskRandom.myKDF(seed, index)\n",
    "end"
   ]
  },
  {
   "cell_type": "markdown",
   "metadata": {},
   "source": [
    "## Statistics"
   ]
  },
  {
   "cell_type": "code",
   "execution_count": 28,
   "metadata": {},
   "outputs": [
    {
     "data": {
      "text/plain": [
       "printStats (generic function with 1 method)"
      ]
     },
     "execution_count": 28,
     "metadata": {},
     "output_type": "execute_result"
    }
   ],
   "source": [
    "using Formatting\n",
    "\n",
    "function initStats!(m::Model)\n",
    "    return m.stats = Dict()    # mapping from (person, day) pairs to run counts\n",
    "end\n",
    "\n",
    "function gatherStats!(m::Model, t::Int)\n",
    "    stats = m.stats\n",
    "    for p in m.people\n",
    "        stats[(p,t,\"infected runs\")] = get(stats, (p,t,\"infected runs\"), 0.0) + \n",
    "                              infected(p.diseaseState)\n",
    "        stats[(p,t,\"total runs\")] = get(stats, (p,t,\"total runs\"), 0.0) + 1\n",
    "    end\n",
    "end\n",
    "\n",
    "function printStats(m::Model, runs)\n",
    "    for t in 1:m.nStats\n",
    "        printfmtln(\"  Stats number {}\", t)\n",
    "        for p in m.people\n",
    "            infectedRuns = get(m.stats, (p, t, \"infected runs\"), 0)\n",
    "            totalRuns = get(m.stats, (p, t, \"total runs\"), 0)\n",
    "            printfmt(\"        {:s}:  {:d}/{:d} ≈ {:.3f}\\n\", \n",
    "                     p.personID, \n",
    "                     infectedRuns,\n",
    "                     totalRuns,\n",
    "                     infectedRuns/totalRuns)\n",
    "        end\n",
    "    end\n",
    "    flush(stdout)\n",
    "end"
   ]
  },
  {
   "cell_type": "markdown",
   "metadata": {},
   "source": [
    "## Event simulation\n",
    "\n",
    "A function for each event type, to simulate an event of that type.\n",
    "Function returns ``true`` if simulation is consistent with any relevant reported test results."
   ]
  },
  {
   "cell_type": "code",
   "execution_count": 29,
   "metadata": {},
   "outputs": [
    {
     "data": {
      "text/plain": [
       "simulateNewPersonEvent (generic function with 1 method)"
      ]
     },
     "execution_count": 29,
     "metadata": {},
     "output_type": "execute_result"
    }
   ],
   "source": [
    "function infectPersonWithProbability(p::Person, t::Int, infectedProbability::Real, eventSeed::UInt)\n",
    "    if withProbability(eventSeed, 1, infectedProbability)\n",
    "        # following gives uniform distribution over infected states\n",
    "        p.diseaseState = \n",
    "         DiseaseState(fromRange(eventSeed, 2, (Int(I1.ds)):(Int(ILast.ds))))\n",
    "    else\n",
    "        p.diseaseState = Susceptible\n",
    "    end\n",
    "end\n",
    "\n",
    "function maskPersonWithProbability(p::Person, t::Int, maskProbability::Real, eventSeed::UInt)\n",
    "    if withProbability(eventSeed, 3, maskProbability)\n",
    "        p.visibleState = VisibleState(N95)            # make flexible?\n",
    "    else\n",
    "        p.visibleState = VisibleState(NoMask)\n",
    "    end\n",
    "end\n",
    "\n",
    "function makePersonAsymptomaticWithProbability(p::Person, \n",
    "                                               t::Int, \n",
    "                                               asymptomaticProbability::Real,\n",
    "                                               eventSeed::UInt)\n",
    "    p.asymptomatic = withProbability(eventSeed, 4, asymptomaticProbability)\n",
    "end\n",
    "\n",
    "function simulateNewPersonEvent(m::Model, e::Event, t::Int, eventSeed::UInt)::Bool\n",
    "   p = e.person  \n",
    "   infectPersonWithProbability(p, t, e.infectedProbability, eventSeed)\n",
    "   maskPersonWithProbability(p, t, e.maskedProbability, eventSeed)\n",
    "   makePersonAsymptomaticWithProbability(p, t, e.asymptomaticProbability, eventSeed)\n",
    "   return true\n",
    "end       "
   ]
  },
  {
   "cell_type": "code",
   "execution_count": 30,
   "metadata": {},
   "outputs": [
    {
     "data": {
      "text/plain": [
       "simulateNewDayEvent (generic function with 1 method)"
      ]
     },
     "execution_count": 30,
     "metadata": {},
     "output_type": "execute_result"
    }
   ],
   "source": [
    "function simulateNewDayEvent(m::Model, e::Event, t::Int, eventSeed::UInt)::Bool\n",
    "    # Start a new day by advancing DiseaseState\n",
    "    for p in m.people \n",
    "        p.diseaseState = nextDiseaseState(p.diseaseState)\n",
    "        # p.visibleState = p.visibleState # of course; not needed\n",
    "    end\n",
    "    return true\n",
    "end"
   ]
  },
  {
   "cell_type": "code",
   "execution_count": 31,
   "metadata": {},
   "outputs": [
    {
     "data": {
      "text/plain": [
       "simulateTestEvent (generic function with 1 method)"
      ]
     },
     "execution_count": 31,
     "metadata": {},
     "output_type": "execute_result"
    }
   ],
   "source": [
    "function simulateTestEvent(m::Model, e::Event, t::Int, eventSeed::UInt)::Bool\n",
    "    # return consistent (Bool) to be anded with consistent (Bool) for this simulation run\n",
    "    p = e.person\n",
    "    is_infected = infected(p.diseaseState)  # can transmit same day infected, perhaps\n",
    "    if is_infected\n",
    "        simulatedTestResult = withProbability(eventSeed, 1, e.testType.P_det)\n",
    "    else\n",
    "        simulatedTestResult = withProbability(eventSeed, 2, e.testType.P_FA)\n",
    "    end\n",
    "    consistent = Int(simulatedTestResult == e.reportedTestResult)\n",
    "    return consistent\n",
    "end"
   ]
  },
  {
   "cell_type": "code",
   "execution_count": 32,
   "metadata": {},
   "outputs": [
    {
     "data": {
      "text/plain": [
       "simulateSymptomOnsetEvent (generic function with 1 method)"
      ]
     },
     "execution_count": 32,
     "metadata": {},
     "output_type": "execute_result"
    }
   ],
   "source": [
    "function simulateSymptomOnsetEvent(m::Model, e::Event, t::Int, eventSeed::UInt)::Bool\n",
    "    p = e.person\n",
    "    simulatedSymptomOnsetResult = (!p.asymptomatic && (p.diseaseState == SymptomOnset))\n",
    "    consistent = Int(simulatedSymptomOnsetResult == e.reportedSymptomOnsetResult)\n",
    "    return consistent\n",
    "end"
   ]
  },
  {
   "cell_type": "code",
   "execution_count": 33,
   "metadata": {},
   "outputs": [
    {
     "data": {
      "text/plain": [
       "simulateContactEvent (generic function with 1 method)"
      ]
     },
     "execution_count": 33,
     "metadata": {},
     "output_type": "execute_result"
    }
   ],
   "source": [
    "function simulateContactEvent(m::Model, e::Event, t::Int, eventSeed::UInt)::Bool\n",
    "    # An event with several people is equivalent to a number of two-person contacts\n",
    "    # This routine has runtime quadratic in number of people in event, so don't use\n",
    "    # it for large events.\n",
    "    # Note that infection won't be transitively propagated within an event: \n",
    "    # if A infects B in an event, then B won't infect anyone else in that event\n",
    "    # (because B will be in state I1, which has infectiousness 0).                                              \n",
    "    subEventCtr = 1\n",
    "    subEventSeed = unsigned(0)    # to make scope of subEventSeed entire function\n",
    "    anonymousPerson = Person(\"\", \n",
    "                             false,\n",
    "                             DiseaseState(),\n",
    "                             VisibleState())\n",
    "    for pui in e.people\n",
    "        if pui.diseaseState==Susceptible\n",
    "            for pi in e.people  # infection by known people\n",
    "                if infected(pi.diseaseState)\n",
    "                    subEventSeed = subSeed(eventSeed, subEventCtr)  \n",
    "                    subEventCtr += 1   \n",
    "                    simulateTwoPersonContactEvent(m, e, t, pi, pui, subEventSeed)\n",
    "                end\n",
    "            end\n",
    "            for i in 1:e.anonymousNumber # infection by anonymous people\n",
    "                # set DiseaseState and VisibleState for anonymousPerson\n",
    "                infectPersonWithProbability(anonymousPerson, t, \n",
    "                                            e.anonymousInfectedProbability, \n",
    "                                            subEventSeed)\n",
    "                # add mask up with probability, too...\n",
    "                subEventSeed = subSeed(eventSeed, subEventCtr)  \n",
    "                subEventCtr += 1\n",
    "                simulateTwoPersonContactEvent(m, e, t, anonymousPerson, pui, subEventSeed)\n",
    "            end\n",
    "        end\n",
    "    end\n",
    "    return true\n",
    "end  "
   ]
  },
  {
   "cell_type": "code",
   "execution_count": 34,
   "metadata": {},
   "outputs": [
    {
     "data": {
      "text/plain": [
       "simulateTwoPersonContactEvent (generic function with 1 method)"
      ]
     },
     "execution_count": 34,
     "metadata": {},
     "output_type": "execute_result"
    }
   ],
   "source": [
    "function simulateTwoPersonContactEvent(m, \n",
    "                                       e::Event, \n",
    "                                       t::Int, \n",
    "                                       pi::Person, # infected (source) person\n",
    "                                       pui::Person,  # uninfected (recipient) person\n",
    "                                       subEventSeed::UInt)\n",
    "    \n",
    "    dose = e.minutes      # in arbitrary units (1 minute six feet away)\n",
    "    \n",
    "    # masks reduce dose by transmission factors\n",
    "    dose *= pi.visibleState.mask.sourceMaskTransmission\n",
    "    dose *= pui.visibleState.mask.recipientMaskTransmission\n",
    "    \n",
    "    # multiply dose by infectiousness of source (based on source diseaseState)\n",
    "    dose *= m.params.infectiousness[Int(pi.diseaseState)]\n",
    "    \n",
    "    # also reduce dose if source is asymptomatic\n",
    "    pi.asymptomatic && (dose *= m.params.asymptomaticFactor)\n",
    "    \n",
    "    # following is key formula (equivalent to Independent Action Hypothesis)\n",
    "    transmissionProbability = 1.0 - exp(- dose * m.params.transmissionConstant)\n",
    "    \n",
    "    if withProbability(subEventSeed, 1, transmissionProbability)\n",
    "        pui.diseaseState = I1            # person pui infected! (if not already)\n",
    "    end\n",
    "end"
   ]
  },
  {
   "cell_type": "code",
   "execution_count": 35,
   "metadata": {},
   "outputs": [
    {
     "data": {
      "text/plain": [
       "simulateStatsEvent (generic function with 1 method)"
      ]
     },
     "execution_count": 35,
     "metadata": {},
     "output_type": "execute_result"
    }
   ],
   "source": [
    "function simulateStatsEvent(m::Model, e::Event, t::Int, eventSeed::UInt)::Bool\n",
    "    gatherStats!(m, t)\n",
    "    return true\n",
    "end"
   ]
  },
  {
   "cell_type": "code",
   "execution_count": 36,
   "metadata": {},
   "outputs": [
    {
     "data": {
      "text/plain": [
       "simulateEvent (generic function with 1 method)"
      ]
     },
     "execution_count": 36,
     "metadata": {},
     "output_type": "execute_result"
    }
   ],
   "source": [
    "function simulateEvent(m::Model, e::Event, t::Int, eventSeed::UInt)::Bool\n",
    "    # return true iff all Tes  tEvents and SymptomOnsetEvents\n",
    "    # have simulated values just as reported\n",
    "    e isa NewPersonEvent && (return simulateNewPersonEvent(m, e, t, eventSeed))\n",
    "    e isa NewDayEvent && (return simulateNewDayEvent(m, e, t, eventSeed))  # always true\n",
    "    e isa TestEvent && (return simulateTestEvent(m, e, t, eventSeed))\n",
    "    e isa SymptomOnsetEvent && (return simulateSymptomOnsetEvent(m, e, t, eventSeed))\n",
    "    e isa ContactEvent && (return simulateContactEvent(m, e, t, eventSeed))\n",
    "    e isa StatsEvent && (return simulateStatsEvent(m, e, t, eventSeed))\n",
    "    error(\"simulateEvent: Illegal event type!\")\n",
    "end"
   ]
  },
  {
   "cell_type": "markdown",
   "metadata": {},
   "source": [
    "## Simulation top-level"
   ]
  },
  {
   "cell_type": "code",
   "execution_count": 37,
   "metadata": {},
   "outputs": [
    {
     "data": {
      "text/plain": [
       "simulationRun (generic function with 1 method)"
      ]
     },
     "execution_count": 37,
     "metadata": {},
     "output_type": "execute_result"
    }
   ],
   "source": [
    "function simulationRun(m::Model, runSeed::UInt)\n",
    "    t = 0             # stats counter\n",
    "    for (i, e) in enumerate(m.events)\n",
    "        eventSeed = subSeed(runSeed, i)\n",
    "        e isa StatsEvent && (t += 1)\n",
    "        !simulateEvent(m, e, t, eventSeed) && break\n",
    "    end\n",
    "end"
   ]
  },
  {
   "cell_type": "code",
   "execution_count": 38,
   "metadata": {},
   "outputs": [
    {
     "data": {
      "text/plain": [
       "numberOfStats (generic function with 1 method)"
      ]
     },
     "execution_count": 38,
     "metadata": {},
     "output_type": "execute_result"
    }
   ],
   "source": [
    "function numberOfStats(events)::Int64\n",
    "    # return number of StatsEvent\n",
    "    return length([e for e in events if e isa StatsEvent])\n",
    "end"
   ]
  },
  {
   "cell_type": "code",
   "execution_count": 39,
   "metadata": {},
   "outputs": [
    {
     "data": {
      "text/plain": [
       "initPeople! (generic function with 1 method)"
      ]
     },
     "execution_count": 39,
     "metadata": {},
     "output_type": "execute_result"
    }
   ],
   "source": [
    "function initPeople!(m::Model)\n",
    "    # reset DiseaseState and VisibleState of each named person\n",
    "    for p in m.people\n",
    "        p.diseaseState = DiseaseState()\n",
    "        p.visibleState = VisibleState()\n",
    "    end\n",
    "end"
   ]
  },
  {
   "cell_type": "code",
   "execution_count": 40,
   "metadata": {},
   "outputs": [
    {
     "data": {
      "text/plain": [
       "initEvents! (generic function with 1 method)"
      ]
     },
     "execution_count": 40,
     "metadata": {},
     "output_type": "execute_result"
    }
   ],
   "source": [
    "function initEvents!(m::Model)\n",
    "    # no-op for now\n",
    "end"
   ]
  },
  {
   "cell_type": "code",
   "execution_count": 41,
   "metadata": {},
   "outputs": [
    {
     "data": {
      "text/plain": [
       "simulation (generic function with 1 method)"
      ]
     },
     "execution_count": 41,
     "metadata": {},
     "output_type": "execute_result"
    }
   ],
   "source": [
    "function simulation(m::Model, simulationSeed, runs::Int)\n",
    "    printfmt(\"Starting simulation with simulationSeed {:0x} and {} runs\\n\", \n",
    "            simulationSeed, runs)\n",
    "\n",
    "    # Simulation initialization\n",
    "    initStats!(m)\n",
    "    initEvents!(m)      # no-op\n",
    "    m.nStats = numberOfStats(m.events)\n",
    "    initPeople!(m)      # uses m.nDays, so this is last to set up\n",
    "    simulationSeed = unsigned(simulationSeed)\n",
    "\n",
    "    # Simulation runs\n",
    "    for run in 1:runs\n",
    "        runSeed = subSeed(simulationSeed, run)\n",
    "        simulationRun(m, runSeed)\n",
    "    end\n",
    "\n",
    "    # Print simulation results\n",
    "    printStats(m, runs)\n",
    "    println()\n",
    "    print(\"Done.\")\n",
    "    \n",
    "end"
   ]
  },
  {
   "cell_type": "raw",
   "metadata": {},
   "source": [
    "\\newpage"
   ]
  },
  {
   "cell_type": "markdown",
   "metadata": {},
   "source": [
    "# Plotting routines"
   ]
  },
  {
   "cell_type": "code",
   "execution_count": 42,
   "metadata": {},
   "outputs": [
    {
     "data": {
      "text/plain": [
       "simPlot (generic function with 1 method)"
      ]
     },
     "execution_count": 42,
     "metadata": {},
     "output_type": "execute_result"
    }
   ],
   "source": [
    "@nbinclude(\"SimRiskPlot.ipynb\")"
   ]
  },
  {
   "cell_type": "raw",
   "metadata": {},
   "source": [
    "\\newpage"
   ]
  },
  {
   "cell_type": "markdown",
   "metadata": {},
   "source": [
    "# Examples"
   ]
  },
  {
   "cell_type": "raw",
   "metadata": {},
   "source": [
    "\\newpage"
   ]
  },
  {
   "cell_type": "markdown",
   "metadata": {},
   "source": [
    "## Example 1: A one-person one-day model\n",
    "\n",
    "This simplest-possible example demonstrates adding a person named\n",
    "\"Alice\" to the model.  Here Alice is given an initial probability of\n",
    "infection of 0.200.  On day 1, if Alice is infected, she is equally likely\n",
    "to be an infected disease states (I1..ILast).  Nothing happens in\n",
    "this example, so at the end of the Alice's infection probability is the same\n",
    "as it was when she first appeared."
   ]
  },
  {
   "cell_type": "code",
   "execution_count": 43,
   "metadata": {},
   "outputs": [
    {
     "name": "stdout",
     "output_type": "stream",
     "text": [
      "\n",
      "Example 1: notePerson\n",
      "Starting simulation with simulationSeed 0 and 100000 runs\n",
      "  Stats number 1\n",
      "        Alice:  20046/100000 ≈ 0.200\n",
      "\n",
      "Done."
     ]
    },
    {
     "data": {
      "image/png": "[encoded data removed]",
      "text/plain": [
       "PyPlot.Figure(PyObject <Figure size 400x208 with 1 Axes>)"
      ]
     },
     "metadata": {},
     "output_type": "display_data"
    },
    {
     "name": "stdout",
     "output_type": "stream",
     "text": [
      "  2.845499 seconds (14.17 M allocations: 676.696 MiB, 7.25% gc time)\n"
     ]
    }
   ],
   "source": [
    "function example1()::Model   \n",
    "    println(\"\\nExample 1: notePerson\")\n",
    "    m = Model(\"Example 1\")\n",
    "    notePerson!(m, \"Alice\", infectedProbability=0.200)\n",
    "    noteStats!(m)\n",
    "    return m\n",
    "end\n",
    "\n",
    "m = example1()\n",
    "@time simulation(m, 0, 100000)\n",
    "# @time simulation(example1(), 0, 100000)\n",
    "# correct answer is\n",
    "#     Prob(Alice infected) = 0.200\n",
    "\n",
    "simPlot(m)"
   ]
  },
  {
   "cell_type": "raw",
   "metadata": {},
   "source": [
    "\\newpage"
   ]
  },
  {
   "cell_type": "markdown",
   "metadata": {},
   "source": [
    "## Example 2: A Two-Day Example\n",
    "\n",
    "This is identical to example 1, with the addition of a NewDay, which\n",
    "causes a transition to day 2 in the simulation."
   ]
  },
  {
   "cell_type": "code",
   "execution_count": 44,
   "metadata": {},
   "outputs": [
    {
     "name": "stdout",
     "output_type": "stream",
     "text": [
      "Example 2: notePerson and noteNewDay\n",
      "Starting simulation with simulationSeed 0 and 100000 runs\n",
      "  Stats number 1\n",
      "        Alice:  20046/100000 ≈ 0.200\n",
      "  Stats number 2\n",
      "        Alice:  18647/100000 ≈ 0.186\n"
     ]
    },
    {
     "data": {
      "image/png": "[encoded data removed]",
      "text/plain": [
       "PyPlot.Figure(PyObject <Figure size 400x288 with 1 Axes>)"
      ]
     },
     "metadata": {},
     "output_type": "display_data"
    },
    {
     "name": "stdout",
     "output_type": "stream",
     "text": [
      "\n",
      "Done.  0.516121 seconds (3.31 M allocations: 73.573 MiB, 2.31% gc time)\n"
     ]
    }
   ],
   "source": [
    "function example2()::Model   \n",
    "    println(\"Example 2: notePerson and noteNewDay\")\n",
    "    m = Model(\"Example 2\")\n",
    "    notePerson!(m, \"Alice\", infectedProbability=0.200)\n",
    "    noteStats!(m)\n",
    "    # day 2\n",
    "    noteNewDay!(m)\n",
    "    noteStats!(m)\n",
    "    return m\n",
    "end\n",
    "\n",
    "# @time simulation(example2(), 0, 100000)\n",
    "m = example2()\n",
    "@time simulation(m, 0, 100000)\n",
    "# correct answer for end of day 2 is \n",
    "#     Prob(Alice infected) = 0.20 * 13/14 = 0.1857 \n",
    "# since Alice recovers when entering day 2 with probability 1/14.\n",
    "\n",
    "simPlot(m)"
   ]
  },
  {
   "cell_type": "raw",
   "metadata": {},
   "source": [
    "\\newpage"
   ]
  },
  {
   "cell_type": "markdown",
   "metadata": {},
   "source": [
    "## Example 3: One person, one day, and one perfect test\n",
    "\n",
    "In this example, Alice initially appears with an infection probability\n",
    "of 0.02.  But she is immediately tested, and the test result is \"true\" (infected).\n",
    "So the probability of her being infected, conditioned on this test result, is\n",
    "1.000."
   ]
  },
  {
   "cell_type": "code",
   "execution_count": 45,
   "metadata": {},
   "outputs": [
    {
     "name": "stdout",
     "output_type": "stream",
     "text": [
      "Example 3: notePerson and noteTest (with perfect test)\n",
      "Starting simulation with simulationSeed 0 and 100000 runs\n",
      "  Stats number 1\n",
      "        Alice:  2021/100000 ≈ 0.020\n",
      "  Stats number 2\n",
      "        Alice:  2021/2021 ≈ 1.000\n"
     ]
    },
    {
     "data": {
      "image/png": "[encoded data removed]",
      "text/plain": [
       "PyPlot.Figure(PyObject <Figure size 400x288 with 1 Axes>)"
      ]
     },
     "metadata": {},
     "output_type": "display_data"
    },
    {
     "name": "stdout",
     "output_type": "stream",
     "text": [
      "\n",
      "Done.  0.344656 seconds (2.03 M allocations: 48.102 MiB, 2.46% gc time)\n"
     ]
    }
   ],
   "source": [
    "function example3()::Model   \n",
    "    println(\"Example 3: notePerson and noteTest (with perfect test)\")\n",
    "    m = Model(\"Example 3\")\n",
    "    notePerson!(m, \"Alice\", infectedProbability=0.020)\n",
    "    noteStats!(m)\n",
    "    noteTest!(m, \"Alice\", PerfectTest, true)   # perfect test returned true here\n",
    "    noteStats!(m)\n",
    "    return m\n",
    "end\n",
    "\n",
    "m = example3()\n",
    "@time simulation(m, 0, 100000)\n",
    "# correct answer for end of day 1 is\n",
    "#     Prob(Alice infected) = 1.000\n",
    "\n",
    "simPlot(m)"
   ]
  },
  {
   "cell_type": "raw",
   "metadata": {},
   "source": [
    "\\newpage"
   ]
  },
  {
   "cell_type": "markdown",
   "metadata": {},
   "source": [
    "## Example 4: One person, one day, and one imperfect test\n",
    "\n",
    "This is the same as example 3, except that the test is now *imperfect*, with\n",
    "a probability of detection (correctly reporting) an infected individual of only\n",
    "ninety-five percent, and a probability of a false alarm (incorrectly reporting an uninfected\n",
    "individual as infected) of five percent.  Alice appears on the scene initially with\n",
    "an infection probability of 0.020.  She is then tested by an imperfect test, which has\n",
    "a 0.05 false negative rate and a 0.05 false positive rate.  The test returns \"true\" (infected).\n",
    "The chance that Alice is actually infected is only 0.279, due to false positives.\n",
    "(See the next example for the improvement when one has a repeated PCR test.)  Many are surprised\n",
    "to see a positive test result from a test that is \"95% accurate\" have a post-test posterior\n",
    "probability of only 28%."
   ]
  },
  {
   "cell_type": "code",
   "execution_count": 46,
   "metadata": {
    "scrolled": true
   },
   "outputs": [
    {
     "name": "stdout",
     "output_type": "stream",
     "text": [
      "Example 4: notePerson and noteTest (with imperfect PCR test)\n",
      "Starting simulation with simulationSeed 0 and 100000 runs\n",
      "  Stats number 1\n",
      "        Alice:  2021/100000 ≈ 0.020\n",
      "  Stats number 2\n",
      "        Alice:  1917/6835 ≈ 0.280\n"
     ]
    },
    {
     "data": {
      "image/png": "[encoded data removed]",
      "text/plain": [
       "PyPlot.Figure(PyObject <Figure size 400x288 with 1 Axes>)"
      ]
     },
     "metadata": {},
     "output_type": "display_data"
    },
    {
     "name": "stdout",
     "output_type": "stream",
     "text": [
      "\n",
      "Done.  0.363067 seconds (2.09 M allocations: 49.344 MiB, 2.13% gc time)\n"
     ]
    }
   ],
   "source": [
    "function example4()::Model   \n",
    "    println(\"Example 4: notePerson and noteTest (with imperfect PCR test)\")\n",
    "    m = Model(\"Example 4\")\n",
    "    notePerson!(m, \"Alice\", infectedProbability=0.020)\n",
    "    noteStats!(m)\n",
    "    noteTest!(m, \"Alice\", PCRTest, true)   # PCR is imperfect test\n",
    "    noteStats!(m)\n",
    "    return m\n",
    "end\n",
    "\n",
    "m = example4()\n",
    "@time simulation(m, 0, 100000)\n",
    "# corect result here is\n",
    "#     Prob(Alice infected | TestResult simulated as reported) \n",
    "#     = 0.020 * 0.95 / (0.020 * 0.95 + 0.980 * 0.05) = 0.279\n",
    "\n",
    "simPlot(m)"
   ]
  },
  {
   "cell_type": "raw",
   "metadata": {},
   "source": [
    "\\newpage"
   ]
  },
  {
   "cell_type": "markdown",
   "metadata": {},
   "source": [
    "## Example 5: One person, one day, and a repeated imperfect test\n",
    "\n",
    "This is the same as example 4, except that the imperfect test is repeated for a second time.\n",
    "The second test also returns \"true\" (infected). \n",
    "The estimated chance that Alice is actually infected rises from 0.279 to 0.884."
   ]
  },
  {
   "cell_type": "code",
   "execution_count": 47,
   "metadata": {},
   "outputs": [
    {
     "name": "stdout",
     "output_type": "stream",
     "text": [
      "Example 5: notePerson and two noteTests (two independent imperfect PCR tests)\n",
      "Starting simulation with simulationSeed 0 and 100000 runs\n",
      "  Stats number 1\n",
      "        Alice:  2021/100000 ≈ 0.020\n",
      "  Stats number 2\n",
      "        Alice:  1917/6835 ≈ 0.280\n",
      "  Stats number 3\n",
      "        Alice:  1831/2090 ≈ 0.876\n"
     ]
    },
    {
     "data": {
      "image/png": "[encoded data removed]",
      "text/plain": [
       "PyPlot.Figure(PyObject <Figure size 400x368 with 1 Axes>)"
      ]
     },
     "metadata": {},
     "output_type": "display_data"
    },
    {
     "name": "stdout",
     "output_type": "stream",
     "text": [
      "\n",
      "Done.  0.388298 seconds (2.15 M allocations: 50.906 MiB, 3.20% gc time)\n"
     ]
    }
   ],
   "source": [
    "function example5()::Model   \n",
    "    println(\"Example 5: notePerson and two noteTests (two independent imperfect PCR tests)\")\n",
    "    m = Model(\"Example 5\")\n",
    "    notePerson!(m, \"Alice\", infectedProbability=0.020)\n",
    "    noteStats!(m)\n",
    "    noteTest!(m, \"Alice\", PCRTest, true)   # PCR is imperfect test\n",
    "    noteStats!(m)\n",
    "    noteTest!(m, \"Alice\", PCRTest, true)   # second independent PCR test\n",
    "    noteStats!(m)\n",
    "    return m\n",
    "end\n",
    "\n",
    "m = example5()\n",
    "@time simulation(m, 0, 100000)\n",
    "# corect result here is roughly\n",
    "#     Prob(Alice infected | TestResult simulated as reported) \n",
    "#     = 0.020 * 0.95^2 / (0.020 * 0.95^2 + 0.980 * 0.05^2) = 0.884\n",
    "\n",
    "simPlot(m)"
   ]
  },
  {
   "cell_type": "raw",
   "metadata": {},
   "source": [
    "\\newpage"
   ]
  },
  {
   "cell_type": "markdown",
   "metadata": {},
   "source": [
    "## Example 6: One person, one SymptomOnset\n",
    "\n",
    "Same as example 4, except replacing a test with symptom onset.  The result is similar, except that the number of consistent runs is greatly reduced, as symptom onset can happen only on day 5 of infection in our model, if the person is symptomatic."
   ]
  },
  {
   "cell_type": "code",
   "execution_count": 48,
   "metadata": {},
   "outputs": [
    {
     "name": "stdout",
     "output_type": "stream",
     "text": [
      "Example 6: notePerson and one noteSymptomOnset\n",
      "Starting simulation with simulationSeed 0 and 1000000 runs\n",
      "  Stats number 1\n",
      "        Alice:  400004/1000000 ≈ 0.400\n",
      "  Stats number 2\n",
      "        Alice:  17358/17358 ≈ 1.000\n"
     ]
    },
    {
     "data": {
      "image/png": "[encoded data removed]",
      "text/plain": [
       "PyPlot.Figure(PyObject <Figure size 400x288 with 1 Axes>)"
      ]
     },
     "metadata": {},
     "output_type": "display_data"
    },
    {
     "name": "stdout",
     "output_type": "stream",
     "text": [
      "\n",
      "Done.  3.683867 seconds (20.83 M allocations: 487.386 MiB, 1.51% gc time)\n"
     ]
    }
   ],
   "source": [
    "function example6()::Model\n",
    "    println(\"Example 6: notePerson and one noteSymptomOnset\")\n",
    "    m = Model(\"Example 6\")\n",
    "    notePerson!(m, \"Alice\", infectedProbability=0.400)\n",
    "    noteStats!(m)\n",
    "    noteSymptomOnset!(m, \"Alice\", true)\n",
    "    noteStats!(m)\n",
    "    return m\n",
    "end\n",
    "\n",
    "m = example6()\n",
    "@time simulation(m, 0, 1000000)\n",
    "# 1000000 runs * 0.400 infection rate = 400000 infected\n",
    "#  400000 infected * 0.600 symptomatic rate = 240000 symptomatic infected\n",
    "#  240000 symptomatic infected / 14 infected states = 17143 people with symptom onset\n",
    "\n",
    "simPlot(m)"
   ]
  },
  {
   "cell_type": "raw",
   "metadata": {},
   "source": [
    "\\newpage"
   ]
  },
  {
   "cell_type": "markdown",
   "metadata": {},
   "source": [
    "## Example 7: Two person, one day, close contact\n",
    "\n",
    "This example has two people, Alice and Bob, who appear on day 1 with\n",
    "initial probabilities of being infected of twenty and thirty percent, respectively.\n",
    "They have a close contact for two hours."
   ]
  },
  {
   "cell_type": "code",
   "execution_count": 49,
   "metadata": {},
   "outputs": [
    {
     "name": "stdout",
     "output_type": "stream",
     "text": [
      "Example 7: notePerson and noteContact\n",
      "Starting simulation with simulationSeed 2 and 1000000 runs\n",
      "  Stats number 1\n",
      "        Alice:  200385/1000000 ≈ 0.200\n",
      "        Bob:  298887/1000000 ≈ 0.299\n",
      "  Stats number 2\n",
      "        Alice:  271633/1000000 ≈ 0.272\n",
      "        Bob:  340775/1000000 ≈ 0.341\n"
     ]
    },
    {
     "data": {
      "image/png": "[encoded data removed]",
      "text/plain": [
       "PyPlot.Figure(PyObject <Figure size 400x288 with 1 Axes>)"
      ]
     },
     "metadata": {},
     "output_type": "display_data"
    },
    {
     "name": "stdout",
     "output_type": "stream",
     "text": [
      "\n",
      "Done.  6.909286 seconds (55.01 M allocations: 1.282 GiB, 1.95% gc time)\n"
     ]
    }
   ],
   "source": [
    "function example7()::Model   \n",
    "    println(\"Example 7: notePerson and noteContact\")\n",
    "    m = Model(\"Example 7\")\n",
    "    notePerson!(m, \"Alice\", infectedProbability=0.200, maskedProbability=0.0)\n",
    "    notePerson!(m, \"Bob\", infectedProbability=0.300, maskedProbability=0.0)\n",
    "    noteStats!(m)\n",
    "    noteContact!(m, [\"Alice\", \"Bob\"], minutes=120)\n",
    "    noteStats!(m)\n",
    "    return m\n",
    "end\n",
    "\n",
    "m = example7()\n",
    "@time simulation(m, 2, 1000000)\n",
    "# As transmission has probability 1-(1-0.05)^8 = 0.336, \n",
    "# the correct answer is (for uniform infectiousness, which isn't quite accurate)\n",
    "#   Prob(Alice infected) = 0.200 + 0.336 * 0.800 * 0.300 = 0.281\n",
    "#   Prob(Bob infected) = 0.300 + 0.336 * 0.200 * 0.700 = 0.347\n",
    "\n",
    "simPlot(m)"
   ]
  },
  {
   "cell_type": "raw",
   "metadata": {},
   "source": [
    "\\newpage"
   ]
  },
  {
   "cell_type": "markdown",
   "metadata": {},
   "source": [
    "## Example 8: Twelve person (ten unknown), one day, close contact\n",
    "\n",
    "This example has two known people, Alice and Bob, who appear on day 1 with initial infection probabilities of twenty and thirty percent, respectively. They have a close contact for two hours, as in Example 7.  This close contact now includes ten other people, who are anonymous, and thus assume default parameter settings.  (Maybe Alice and Bob were on a bus ride with ten people they didn't know.)\n",
    "\n",
    "We can see that the final infection probabilities for Alice and Bob increase, compared to Example 7, as one would expect. "
   ]
  },
  {
   "cell_type": "code",
   "execution_count": 50,
   "metadata": {},
   "outputs": [
    {
     "name": "stdout",
     "output_type": "stream",
     "text": [
      "Example 8: notePerson and noteContact (with ten unknown parties)\n",
      "Starting simulation with simulationSeed 0 and 1000000 runs\n",
      "  Stats number 1\n",
      "        Alice:  200019/1000000 ≈ 0.200\n",
      "        Bob:  299737/1000000 ≈ 0.300\n",
      "  Stats number 2\n",
      "        Alice:  312246/1000000 ≈ 0.312\n",
      "        Bob:  381915/1000000 ≈ 0.382\n"
     ]
    },
    {
     "data": {
      "image/png": "[encoded data removed]",
      "text/plain": [
       "PyPlot.Figure(PyObject <Figure size 500x288 with 1 Axes>)"
      ]
     },
     "metadata": {},
     "output_type": "display_data"
    },
    {
     "name": "stdout",
     "output_type": "stream",
     "text": [
      "\n",
      "Done.  7.230288 seconds (55.00 M allocations: 1.282 GiB, 1.94% gc time)\n"
     ]
    }
   ],
   "source": [
    "function example8()::Model   \n",
    "    println(\"Example 8: notePerson and noteContact (with ten unknown parties)\")\n",
    "    m = Model(\"Example 8\")\n",
    "    notePerson!(m, \"Alice\", infectedProbability=0.200, maskedProbability=0.0)\n",
    "    notePerson!(m, \"Bob\", infectedProbability=0.300, maskedProbability=0.0)\n",
    "    noteStats!(m)\n",
    "    noteContact!(m, [\"Alice\", \"Bob\"], minutes=120, anonymousNumber=10) \n",
    "    noteStats!(m)\n",
    "    return m\n",
    "end\n",
    "\n",
    "m = example8()\n",
    "@time simulation(m, 0, 1000000)\n",
    "\n",
    "simPlot(m)"
   ]
  },
  {
   "cell_type": "raw",
   "metadata": {},
   "source": [
    "\\newpage"
   ]
  },
  {
   "cell_type": "markdown",
   "metadata": {},
   "source": [
    "## Example 9: Three named people, four anonymous people, two tests, and a NewDay\n",
    "\n",
    "(Explained above; this is the introductory example.)"
   ]
  },
  {
   "cell_type": "code",
   "execution_count": 51,
   "metadata": {},
   "outputs": [
    {
     "data": {
      "text/plain": [
       "example9 (generic function with 1 method)"
      ]
     },
     "execution_count": 51,
     "metadata": {},
     "output_type": "execute_result"
    }
   ],
   "source": [
    "function example9()::Model\n",
    "    m = Model(\"Example 9\")\n",
    "    # day 1\n",
    "    notePerson!(m, \"me\", infectedProbability=0.00, maskedProbability=0.500)\n",
    "    notePerson!(m, \"Jack\", infectedProbability=0.05, maskedProbability=0.000)\n",
    "    notePerson!(m, \"Jill\", infectedProbability=0.10, maskedProbability=1.00)\n",
    "    noteStats!(m)\n",
    "    noteContact!(m, [\"me\", \"Jack\"], minutes=120)\n",
    "    noteContact!(m, [\"me\", \"Jill\"], anonymousNumber=4, minutes=60)\n",
    "    # day 2\n",
    "    noteNewDay!(m)\n",
    "    noteStats!(m)\n",
    "    noteTest!(m, \"Jack\", PCRTest, true)\n",
    "    noteTest!(m, \"Jill\", PCRTest, false)\n",
    "    noteStats!(m)\n",
    "    return m\n",
    "end    "
   ]
  },
  {
   "cell_type": "code",
   "execution_count": 52,
   "metadata": {},
   "outputs": [
    {
     "name": "stdout",
     "output_type": "stream",
     "text": [
      "Starting simulation with simulationSeed 1 and 100000 runs\n",
      "  Stats number 1\n",
      "        me:  0/100000 ≈ 0.000\n",
      "        Jack:  5057/100000 ≈ 0.051\n",
      "        Jill:  10149/100000 ≈ 0.101\n",
      "  Stats number 2\n",
      "        me:  1407/100000 ≈ 0.014\n",
      "        Jack:  4701/100000 ≈ 0.047\n",
      "        Jill:  9499/100000 ≈ 0.095\n",
      "  Stats number 3\n",
      "        me:  675/8074 ≈ 0.084\n",
      "        Jack:  3916/8074 ≈ 0.485\n",
      "        Jill:  52/8074 ≈ 0.006\n"
     ]
    },
    {
     "data": {
      "image/png": "[encoded data removed]",
      "text/plain": [
       "PyPlot.Figure(PyObject <Figure size 600x488 with 1 Axes>)"
      ]
     },
     "metadata": {},
     "output_type": "display_data"
    },
    {
     "name": "stdout",
     "output_type": "stream",
     "text": [
      "\n",
      "Done.  1.362576 seconds (9.49 M allocations: 231.043 MiB, 2.31% gc time)\n"
     ]
    }
   ],
   "source": [
    "m = example9()\n",
    "@time simulation(m, 1, 100000)\n",
    "\n",
    "simPlot(m, save=\"example9\")"
   ]
  },
  {
   "cell_type": "raw",
   "metadata": {},
   "source": [
    "\\newpage"
   ]
  },
  {
   "cell_type": "markdown",
   "metadata": {},
   "source": [
    "## Example 10: a complex thirteen-person example\n",
    "\n",
    "This example has three known people: Alice, Bob, and Charles, and ten\n",
    "anonymous people.  The example proceeds for three days, and has\n",
    "four contact events."
   ]
  },
  {
   "cell_type": "code",
   "execution_count": 53,
   "metadata": {},
   "outputs": [
    {
     "name": "stdout",
     "output_type": "stream",
     "text": [
      "Starting simulation with simulationSeed 1 and 100000 runs\n",
      "  Stats number 1\n",
      "        Alice:  19954/100000 ≈ 0.200\n",
      "        Bob:  30140/100000 ≈ 0.301\n",
      "        Charles:  39957/100000 ≈ 0.400\n",
      "  Stats number 2\n",
      "        Alice:  21064/100000 ≈ 0.211\n",
      "        Bob:  30772/100000 ≈ 0.308\n",
      "        Charles:  39957/100000 ≈ 0.400\n",
      "  Stats number 3\n",
      "        Alice:  19611/100000 ≈ 0.196\n",
      "        Bob:  28643/100000 ≈ 0.286\n",
      "        Charles:  37139/100000 ≈ 0.371\n",
      "  Stats number 4\n",
      "        Alice:  21055/100000 ≈ 0.211\n",
      "        Bob:  28643/100000 ≈ 0.286\n",
      "        Charles:  37737/100000 ≈ 0.377\n",
      "  Stats number 5\n",
      "        Alice:  19626/100000 ≈ 0.196\n",
      "        Bob:  26483/100000 ≈ 0.265\n",
      "        Charles:  34840/100000 ≈ 0.348\n",
      "  Stats number 6\n",
      "        Alice:  9884/36348 ≈ 0.272\n",
      "        Bob:  12215/36348 ≈ 0.336\n",
      "        Charles:  33224/36348 ≈ 0.914\n"
     ]
    },
    {
     "data": {
      "image/png": "[encoded data removed]",
      "text/plain": [
       "PyPlot.Figure(PyObject <Figure size 600x688 with 1 Axes>)"
      ]
     },
     "metadata": {},
     "output_type": "display_data"
    },
    {
     "name": "stdout",
     "output_type": "stream",
     "text": [
      "\n",
      "Done.  2.483053 seconds (19.90 M allocations: 469.296 MiB, 2.82% gc time)\n"
     ]
    }
   ],
   "source": [
    "function example10()::Model \n",
    "    m = Model(\"Example 10\")\n",
    "    # day 1\n",
    "    notePerson!(m, \"Alice\", infectedProbability=0.200, maskedProbability=0.00)\n",
    "    notePerson!(m, \"Bob\", infectedProbability=0.300, maskedProbability=0.00)\n",
    "    notePerson!(m, \"Charles\", infectedProbability=0.400, maskedProbability=0.00)\n",
    "    noteStats!(m)\n",
    "    noteContact!(m, [\"Alice\", \"Bob\"], minutes=15)\n",
    "    noteStats!(m)\n",
    "    # day 2\n",
    "    noteNewDay!(m)\n",
    "    noteStats!(m)\n",
    "    noteContact!(m, [\"Alice\", \"Charles\"], minutes=15)\n",
    "    noteStats!(m)\n",
    "    # day 3\n",
    "    noteNewDay!(m)\n",
    "    noteStats!(m)\n",
    "    noteTest!(m, \"Charles\", PCRTest, true)\n",
    "    noteContact!(m, [\"Bob\", \"Charles\"], minutes=15, anonymousNumber=10)\n",
    "    noteContact!(m, [\"Alice\", \"Bob\", \"Charles\"], minutes=15)\n",
    "    noteStats!(m)\n",
    "    return m\n",
    "end\n",
    "\n",
    "m = example10()\n",
    "@time simulation(m, 1, 100000)\n",
    "\n",
    "simPlot(m)"
   ]
  },
  {
   "cell_type": "raw",
   "metadata": {},
   "source": [
    "\\newpage"
   ]
  },
  {
   "cell_type": "markdown",
   "metadata": {},
   "source": [
    "## Example 11: Can a PCR positive test be cleared by a subsequent negative test?\n",
    "\n",
    "Here is an example motivated by this article:\n",
    "(https://medical.mit.edu/covid-19-updates/2020/11/pcr-test-result).\n",
    "\n",
    "The short answer is \"yes\".  That is to say, you can combine the results of more than one test to get a final probability of infection.  In our case, where a PCR test has equal values for \"miss probability\" ($1-P_{DET}$) and \"false alarm probability\" ($P_{FA}$) then \n",
    "one negative test exactly cancels one positive test, so you might want *two* negative tests to conclude an overall \"negative\" result."
   ]
  },
  {
   "cell_type": "code",
   "execution_count": 54,
   "metadata": {},
   "outputs": [
    {
     "name": "stdout",
     "output_type": "stream",
     "text": [
      "Starting simulation with simulationSeed 1 and 100000 runs\n",
      "  Stats number 1\n",
      "        me:  1948/100000 ≈ 0.019\n",
      "  Stats number 2\n",
      "        me:  1857/6868 ≈ 0.270\n",
      "  Stats number 3\n",
      "        me:  83/4801 ≈ 0.017\n"
     ]
    },
    {
     "data": {
      "image/png": "[encoded data removed]",
      "text/plain": [
       "PyPlot.Figure(PyObject <Figure size 400x368 with 1 Axes>)"
      ]
     },
     "metadata": {},
     "output_type": "display_data"
    },
    {
     "name": "stdout",
     "output_type": "stream",
     "text": [
      "\n",
      "Done.  0.379335 seconds (2.19 M allocations: 51.705 MiB, 1.97% gc time)\n"
     ]
    }
   ],
   "source": [
    "function example11()\n",
    "    m = Model(\"Example 11: Can you clear a positive test with a subsequent negative test?\")\n",
    "    notePerson!(m, \"me\", infectedProbability=0.02)\n",
    "    noteStats!(m)\n",
    "    noteTest!(m, \"me\", PCRTest, true)\n",
    "    noteStats!(m)\n",
    "    noteTest!(m, \"me\", PCRTest, false)\n",
    "    noteStats!(m)\n",
    "    return m\n",
    "end\n",
    "\n",
    "m = example11()\n",
    "@time simulation(m, 1, 100000)\n",
    "\n",
    "simPlot(m)\n"
   ]
  },
  {
   "cell_type": "raw",
   "metadata": {},
   "source": [
    "\\newpage"
   ]
  },
  {
   "cell_type": "markdown",
   "metadata": {},
   "source": [
    "# Notes\n",
    "\n",
    "Each simulation run could have different parameters, not just a different\n",
    "simulation seed (see SafeBlues video).\n",
    "\n"
   ]
  },
  {
   "cell_type": "markdown",
   "metadata": {},
   "source": [
    "# Related Work\n",
    "\n",
    "[SafeBlues](https://safeblues.org/)\n",
    "\n",
    "[COVID-19 Indoor Safety Guideline](http://www.mit.edu/~bazant/COVID-19/)\n",
    "\n",
    "Simulated Automatic Exposure\n",
    "Notification (SimAEN):\n",
    "Exploring the Effects of\n",
    "Interventions on the Spread of\n",
    "COVID, by \n",
    "Ted Londner, Jonathan Saunders, Dieter W. Schuldt, Dr. Bill Streilein (Lincoln Laboratory) -- to appear.\n"
   ]
  },
  {
   "cell_type": "markdown",
   "metadata": {},
   "source": [
    "# Acknowledgments\n",
    "\n",
    "Ronald L. Rivest has received support from\n",
    "the Center for Science of Information (CSoI), an\n",
    "NSF Science and Technology Center, under grant\n",
    "agreement CCF-0939370.  \n",
    "\n",
    "He would like to thank his many colleagues,\n",
    "on the [PACT](http://pact.mit.edu)\n",
    "project and elsewhere, for teaching\n",
    "him about covid-19.  \n",
    "\n",
    "The code here is freely usable by others (under the\n",
    "[MIT License](https://opensource.org/licenses/MIT)).\n",
    "\n",
    "Thanks to Alan Edelman and Valentin Churavy for suggesting ways\n",
    "to improve the code efficiency."
   ]
  }
 ],
 "metadata": {
  "@webio": {
   "lastCommId": null,
   "lastKernelId": null
  },
  "authors": [
   {
    "name": "Ronald L. Rivest"
   }
  ],
  "kernelspec": {
   "display_name": "Julia 1.1.1",
   "language": "julia",
   "name": "julia-1.1"
  },
  "language_info": {
   "file_extension": ".jl",
   "mimetype": "application/julia",
   "name": "julia",
   "version": "1.1.1"
  },
  "title": "SimRisk: A simulation-based covid-19 risk estimator"
 },
 "nbformat": 4,
 "nbformat_minor": 2
}
